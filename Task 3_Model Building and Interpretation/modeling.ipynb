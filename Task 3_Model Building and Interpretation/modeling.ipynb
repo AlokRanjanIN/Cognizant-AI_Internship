{
 "cells": [
  {
   "cell_type": "markdown",
   "id": "fddad993-989d-4f17-b0ab-7dde26360a90",
   "metadata": {},
   "source": [
    "## Gala Groceries - Modelling"
   ]
  },
  {
   "cell_type": "markdown",
   "id": "7c779637-b08b-41a6-8e71-302991a24cdc",
   "metadata": {},
   "source": [
    "\n",
    "<u>Problem statement:</u>\n",
    "```\n",
    "Can we accurately predict the stock levels of products, based on sales data and sensor data, \n",
    "on an hourly basis in order to more intelligently procure products from our suppliers.\n",
    "```"
   ]
  },
  {
   "cell_type": "markdown",
   "id": "a1b8a4a9-186c-4c9e-9bc7-36a91045221e",
   "metadata": {
    "jp-MarkdownHeadingCollapsed": true
   },
   "source": [
    "### Import Libraries"
   ]
  },
  {
   "cell_type": "code",
   "execution_count": 1,
   "id": "f93def3c-9c85-4e30-a8bb-348c8ec5369f",
   "metadata": {
    "tags": []
   },
   "outputs": [],
   "source": [
    "import numpy as np\n",
    "import pandas as pd\n",
    "import matplotlib.pyplot as plt\n",
    "import seaborn as sns\n",
    "import warnings\n",
    "warnings.filterwarnings('ignore')"
   ]
  },
  {
   "cell_type": "markdown",
   "id": "d2b2eb2d-19d2-4a54-a762-cc01daf9bfd4",
   "metadata": {
    "jp-MarkdownHeadingCollapsed": true
   },
   "source": [
    "### Load Data"
   ]
  },
  {
   "cell_type": "code",
   "execution_count": 2,
   "id": "28c36c2d-578e-4c85-887f-6679ba657568",
   "metadata": {},
   "outputs": [
    {
     "name": "stdout",
     "output_type": "stream",
     "text": [
      "(7829, 10)\n"
     ]
    },
    {
     "data": {
      "text/html": [
       "<div>\n",
       "<style scoped>\n",
       "    .dataframe tbody tr th:only-of-type {\n",
       "        vertical-align: middle;\n",
       "    }\n",
       "\n",
       "    .dataframe tbody tr th {\n",
       "        vertical-align: top;\n",
       "    }\n",
       "\n",
       "    .dataframe thead th {\n",
       "        text-align: right;\n",
       "    }\n",
       "</style>\n",
       "<table border=\"1\" class=\"dataframe\">\n",
       "  <thead>\n",
       "    <tr style=\"text-align: right;\">\n",
       "      <th></th>\n",
       "      <th>Unnamed: 0</th>\n",
       "      <th>transaction_id</th>\n",
       "      <th>timestamp</th>\n",
       "      <th>product_id</th>\n",
       "      <th>category</th>\n",
       "      <th>customer_type</th>\n",
       "      <th>unit_price</th>\n",
       "      <th>quantity</th>\n",
       "      <th>total</th>\n",
       "      <th>payment_type</th>\n",
       "    </tr>\n",
       "  </thead>\n",
       "  <tbody>\n",
       "    <tr>\n",
       "      <th>0</th>\n",
       "      <td>0</td>\n",
       "      <td>a1c82654-c52c-45b3-8ce8-4c2a1efe63ed</td>\n",
       "      <td>2022-03-02 09:51:38</td>\n",
       "      <td>3bc6c1ea-0198-46de-9ffd-514ae3338713</td>\n",
       "      <td>fruit</td>\n",
       "      <td>gold</td>\n",
       "      <td>3.99</td>\n",
       "      <td>2</td>\n",
       "      <td>7.98</td>\n",
       "      <td>e-wallet</td>\n",
       "    </tr>\n",
       "    <tr>\n",
       "      <th>1</th>\n",
       "      <td>1</td>\n",
       "      <td>931ad550-09e8-4da6-beaa-8c9d17be9c60</td>\n",
       "      <td>2022-03-06 10:33:59</td>\n",
       "      <td>ad81b46c-bf38-41cf-9b54-5fe7f5eba93e</td>\n",
       "      <td>fruit</td>\n",
       "      <td>standard</td>\n",
       "      <td>3.99</td>\n",
       "      <td>1</td>\n",
       "      <td>3.99</td>\n",
       "      <td>e-wallet</td>\n",
       "    </tr>\n",
       "  </tbody>\n",
       "</table>\n",
       "</div>"
      ],
      "text/plain": [
       "   Unnamed: 0                        transaction_id            timestamp  \\\n",
       "0           0  a1c82654-c52c-45b3-8ce8-4c2a1efe63ed  2022-03-02 09:51:38   \n",
       "1           1  931ad550-09e8-4da6-beaa-8c9d17be9c60  2022-03-06 10:33:59   \n",
       "\n",
       "                             product_id category customer_type  unit_price  \\\n",
       "0  3bc6c1ea-0198-46de-9ffd-514ae3338713    fruit          gold        3.99   \n",
       "1  ad81b46c-bf38-41cf-9b54-5fe7f5eba93e    fruit      standard        3.99   \n",
       "\n",
       "   quantity  total payment_type  \n",
       "0         2   7.98     e-wallet  \n",
       "1         1   3.99     e-wallet  "
      ]
     },
     "execution_count": 2,
     "metadata": {},
     "output_type": "execute_result"
    }
   ],
   "source": [
    "sales_df = pd.read_csv(\"sales.csv\")\n",
    "print(sales_df.shape); sales_df.head(2)"
   ]
  },
  {
   "cell_type": "code",
   "execution_count": 3,
   "id": "511ef982-0bdd-4ba1-8ded-68ce1a60c59e",
   "metadata": {},
   "outputs": [
    {
     "name": "stdout",
     "output_type": "stream",
     "text": [
      "(15000, 5)\n"
     ]
    },
    {
     "data": {
      "text/html": [
       "<div>\n",
       "<style scoped>\n",
       "    .dataframe tbody tr th:only-of-type {\n",
       "        vertical-align: middle;\n",
       "    }\n",
       "\n",
       "    .dataframe tbody tr th {\n",
       "        vertical-align: top;\n",
       "    }\n",
       "\n",
       "    .dataframe thead th {\n",
       "        text-align: right;\n",
       "    }\n",
       "</style>\n",
       "<table border=\"1\" class=\"dataframe\">\n",
       "  <thead>\n",
       "    <tr style=\"text-align: right;\">\n",
       "      <th></th>\n",
       "      <th>Unnamed: 0</th>\n",
       "      <th>id</th>\n",
       "      <th>timestamp</th>\n",
       "      <th>product_id</th>\n",
       "      <th>estimated_stock_pct</th>\n",
       "    </tr>\n",
       "  </thead>\n",
       "  <tbody>\n",
       "    <tr>\n",
       "      <th>0</th>\n",
       "      <td>0</td>\n",
       "      <td>4220e505-c247-478d-9831-6b9f87a4488a</td>\n",
       "      <td>2022-03-07 12:13:02</td>\n",
       "      <td>f658605e-75f3-4fed-a655-c0903f344427</td>\n",
       "      <td>0.75</td>\n",
       "    </tr>\n",
       "    <tr>\n",
       "      <th>1</th>\n",
       "      <td>1</td>\n",
       "      <td>f2612b26-fc82-49ea-8940-0751fdd4d9ef</td>\n",
       "      <td>2022-03-07 16:39:46</td>\n",
       "      <td>de06083a-f5c0-451d-b2f4-9ab88b52609d</td>\n",
       "      <td>0.48</td>\n",
       "    </tr>\n",
       "  </tbody>\n",
       "</table>\n",
       "</div>"
      ],
      "text/plain": [
       "   Unnamed: 0                                    id            timestamp  \\\n",
       "0           0  4220e505-c247-478d-9831-6b9f87a4488a  2022-03-07 12:13:02   \n",
       "1           1  f2612b26-fc82-49ea-8940-0751fdd4d9ef  2022-03-07 16:39:46   \n",
       "\n",
       "                             product_id  estimated_stock_pct  \n",
       "0  f658605e-75f3-4fed-a655-c0903f344427                 0.75  \n",
       "1  de06083a-f5c0-451d-b2f4-9ab88b52609d                 0.48  "
      ]
     },
     "execution_count": 3,
     "metadata": {},
     "output_type": "execute_result"
    }
   ],
   "source": [
    "stock_df = pd.read_csv(\"sensor_stock_levels.csv\")\n",
    "print(stock_df.shape); stock_df.head(2)"
   ]
  },
  {
   "cell_type": "code",
   "execution_count": 4,
   "id": "c155239b-84c4-490a-b521-4d39f99e04a5",
   "metadata": {},
   "outputs": [
    {
     "name": "stdout",
     "output_type": "stream",
     "text": [
      "(23890, 4)\n"
     ]
    },
    {
     "data": {
      "text/html": [
       "<div>\n",
       "<style scoped>\n",
       "    .dataframe tbody tr th:only-of-type {\n",
       "        vertical-align: middle;\n",
       "    }\n",
       "\n",
       "    .dataframe tbody tr th {\n",
       "        vertical-align: top;\n",
       "    }\n",
       "\n",
       "    .dataframe thead th {\n",
       "        text-align: right;\n",
       "    }\n",
       "</style>\n",
       "<table border=\"1\" class=\"dataframe\">\n",
       "  <thead>\n",
       "    <tr style=\"text-align: right;\">\n",
       "      <th></th>\n",
       "      <th>Unnamed: 0</th>\n",
       "      <th>id</th>\n",
       "      <th>timestamp</th>\n",
       "      <th>temperature</th>\n",
       "    </tr>\n",
       "  </thead>\n",
       "  <tbody>\n",
       "    <tr>\n",
       "      <th>0</th>\n",
       "      <td>0</td>\n",
       "      <td>d1ca1ef8-0eac-42fc-af80-97106efc7b13</td>\n",
       "      <td>2022-03-07 15:55:20</td>\n",
       "      <td>2.96</td>\n",
       "    </tr>\n",
       "    <tr>\n",
       "      <th>1</th>\n",
       "      <td>1</td>\n",
       "      <td>4b8a66c4-0f3a-4f16-826f-8cf9397e9d18</td>\n",
       "      <td>2022-03-01 09:18:22</td>\n",
       "      <td>1.88</td>\n",
       "    </tr>\n",
       "  </tbody>\n",
       "</table>\n",
       "</div>"
      ],
      "text/plain": [
       "   Unnamed: 0                                    id            timestamp  \\\n",
       "0           0  d1ca1ef8-0eac-42fc-af80-97106efc7b13  2022-03-07 15:55:20   \n",
       "1           1  4b8a66c4-0f3a-4f16-826f-8cf9397e9d18  2022-03-01 09:18:22   \n",
       "\n",
       "   temperature  \n",
       "0         2.96  \n",
       "1         1.88  "
      ]
     },
     "execution_count": 4,
     "metadata": {},
     "output_type": "execute_result"
    }
   ],
   "source": [
    "temp_df = pd.read_csv(\"sensor_storage_temperature.csv\")\n",
    "print(temp_df.shape); temp_df.head(2)"
   ]
  },
  {
   "cell_type": "markdown",
   "id": "7da25834-aded-4687-9d95-ac83435622a2",
   "metadata": {
    "jp-MarkdownHeadingCollapsed": true
   },
   "source": [
    "### Data Cleaning"
   ]
  },
  {
   "cell_type": "code",
   "execution_count": 5,
   "id": "4fd7f949-a452-4d2b-8f1c-7465afda7ab8",
   "metadata": {},
   "outputs": [],
   "source": [
    "dfs = {'sales_df': sales_df, 'stock_df': stock_df, 'temp_df': temp_df}"
   ]
  },
  {
   "cell_type": "code",
   "execution_count": 6,
   "id": "90f0d4ee-e7ec-472a-9332-e091f5eb6801",
   "metadata": {
    "scrolled": true
   },
   "outputs": [
    {
     "name": "stdout",
     "output_type": "stream",
     "text": [
      "\u001b[1msales_df\u001b[0m\n",
      "<class 'pandas.core.frame.DataFrame'>\n",
      "RangeIndex: 7829 entries, 0 to 7828\n",
      "Data columns (total 9 columns):\n",
      " #   Column          Non-Null Count  Dtype  \n",
      "---  ------          --------------  -----  \n",
      " 0   transaction_id  7829 non-null   object \n",
      " 1   timestamp       7829 non-null   object \n",
      " 2   product_id      7829 non-null   object \n",
      " 3   category        7829 non-null   object \n",
      " 4   customer_type   7829 non-null   object \n",
      " 5   unit_price      7829 non-null   float64\n",
      " 6   quantity        7829 non-null   int64  \n",
      " 7   total           7829 non-null   float64\n",
      " 8   payment_type    7829 non-null   object \n",
      "dtypes: float64(2), int64(1), object(6)\n",
      "memory usage: 550.6+ KB\n",
      "None\n",
      "\n",
      "\u001b[1mstock_df\u001b[0m\n",
      "<class 'pandas.core.frame.DataFrame'>\n",
      "RangeIndex: 15000 entries, 0 to 14999\n",
      "Data columns (total 4 columns):\n",
      " #   Column               Non-Null Count  Dtype  \n",
      "---  ------               --------------  -----  \n",
      " 0   id                   15000 non-null  object \n",
      " 1   timestamp            15000 non-null  object \n",
      " 2   product_id           15000 non-null  object \n",
      " 3   estimated_stock_pct  15000 non-null  float64\n",
      "dtypes: float64(1), object(3)\n",
      "memory usage: 468.9+ KB\n",
      "None\n",
      "\n",
      "\u001b[1mtemp_df\u001b[0m\n",
      "<class 'pandas.core.frame.DataFrame'>\n",
      "RangeIndex: 23890 entries, 0 to 23889\n",
      "Data columns (total 3 columns):\n",
      " #   Column       Non-Null Count  Dtype  \n",
      "---  ------       --------------  -----  \n",
      " 0   id           23890 non-null  object \n",
      " 1   timestamp    23890 non-null  object \n",
      " 2   temperature  23890 non-null  float64\n",
      "dtypes: float64(1), object(2)\n",
      "memory usage: 560.1+ KB\n",
      "None\n",
      "\n"
     ]
    }
   ],
   "source": [
    "for name, df in dfs.items():\n",
    "    df.drop(columns=[\"Unnamed: 0\"], inplace=True, errors='ignore')  # Drop unnecessary columns\n",
    "    print(f\"\\033[1m{name}\\033[0m\")\n",
    "    print(f\"{df.info()}\\n\")  # Information about the dataset"
   ]
  },
  {
   "cell_type": "code",
   "execution_count": 7,
   "id": "66e07d3d-bff4-4b55-90ee-e8dbdc086996",
   "metadata": {
    "scrolled": true
   },
   "outputs": [],
   "source": [
    "# Convert timestamp column to datetime format and format it to include only year-month-day hour\n",
    "for name, df in dfs.items():\n",
    "    df['timestamp'] = pd.to_datetime(df['timestamp'], format='%Y-%m-%d %H:%M:%S').dt.round('h')"
   ]
  },
  {
   "cell_type": "code",
   "execution_count": 8,
   "id": "387b1302-22c3-4ba5-8e02-a974fdab7db3",
   "metadata": {},
   "outputs": [
    {
     "name": "stdout",
     "output_type": "stream",
     "text": [
      "False\n",
      "False\n",
      "False\n"
     ]
    }
   ],
   "source": [
    "# Check if any duplicates exist\n",
    "for name,df in dfs.items():\n",
    "    print(df.duplicated().any())  "
   ]
  },
  {
   "cell_type": "code",
   "execution_count": 9,
   "id": "47c0f5f3-4e22-4b8b-8f29-5cb252246872",
   "metadata": {
    "scrolled": true
   },
   "outputs": [
    {
     "name": "stdout",
     "output_type": "stream",
     "text": [
      "\u001b[1msales_df\u001b[0m\n",
      "transaction_id    7829\n",
      "timestamp           84\n",
      "product_id         300\n",
      "category            22\n",
      "customer_type        5\n",
      "unit_price          64\n",
      "quantity             4\n",
      "total              256\n",
      "payment_type         4\n",
      "dtype: int64\n",
      "\n",
      "\u001b[1mstock_df\u001b[0m\n",
      "id                     15000\n",
      "timestamp                 84\n",
      "product_id               300\n",
      "estimated_stock_pct      100\n",
      "dtype: int64\n",
      "\n",
      "\u001b[1mtemp_df\u001b[0m\n",
      "id             23890\n",
      "timestamp         84\n",
      "temperature     3140\n",
      "dtype: int64\n",
      "\n"
     ]
    }
   ],
   "source": [
    "# Dataframe Unique Value Summary\n",
    "for name,df in dfs.items():\n",
    "    print(f\"\\033[1m{name}\\033[0m\\n{df.nunique()}\\n\")"
   ]
  },
  {
   "cell_type": "markdown",
   "id": "8f7ea1a6-aeb4-4858-97a4-90aed5c1e7d3",
   "metadata": {
    "jp-MarkdownHeadingCollapsed": true
   },
   "source": [
    "### Merge datasets"
   ]
  },
  {
   "cell_type": "markdown",
   "id": "7ada8454-2dc8-4cbc-bf58-ca8535f28c3d",
   "metadata": {},
   "source": [
    "`stock_df` is linked with `sales_df` by `product_id` and `timestamp`.  \n",
    "`temp_df` is linked with `sales_df` by `timestamp`."
   ]
  },
  {
   "cell_type": "code",
   "execution_count": 10,
   "id": "e09a1e70-7e08-47fe-9fa6-f274bc645af8",
   "metadata": {},
   "outputs": [
    {
     "name": "stdout",
     "output_type": "stream",
     "text": [
      "(6278, 3)\n"
     ]
    },
    {
     "data": {
      "text/html": [
       "<div>\n",
       "<style scoped>\n",
       "    .dataframe tbody tr th:only-of-type {\n",
       "        vertical-align: middle;\n",
       "    }\n",
       "\n",
       "    .dataframe tbody tr th {\n",
       "        vertical-align: top;\n",
       "    }\n",
       "\n",
       "    .dataframe thead th {\n",
       "        text-align: right;\n",
       "    }\n",
       "</style>\n",
       "<table border=\"1\" class=\"dataframe\">\n",
       "  <thead>\n",
       "    <tr style=\"text-align: right;\">\n",
       "      <th></th>\n",
       "      <th>timestamp</th>\n",
       "      <th>product_id</th>\n",
       "      <th>quantity</th>\n",
       "    </tr>\n",
       "  </thead>\n",
       "  <tbody>\n",
       "    <tr>\n",
       "      <th>0</th>\n",
       "      <td>2022-03-01 09:00:00</td>\n",
       "      <td>00e120bb-89d6-4df5-bc48-a051148e3d03</td>\n",
       "      <td>3</td>\n",
       "    </tr>\n",
       "    <tr>\n",
       "      <th>1</th>\n",
       "      <td>2022-03-01 09:00:00</td>\n",
       "      <td>01f3cdd9-8e9e-4dff-9b5c-69698a0388d0</td>\n",
       "      <td>3</td>\n",
       "    </tr>\n",
       "  </tbody>\n",
       "</table>\n",
       "</div>"
      ],
      "text/plain": [
       "            timestamp                            product_id  quantity\n",
       "0 2022-03-01 09:00:00  00e120bb-89d6-4df5-bc48-a051148e3d03         3\n",
       "1 2022-03-01 09:00:00  01f3cdd9-8e9e-4dff-9b5c-69698a0388d0         3"
      ]
     },
     "execution_count": 10,
     "metadata": {},
     "output_type": "execute_result"
    }
   ],
   "source": [
    "sales_agg = sales_df.groupby(['timestamp','product_id']).agg({'quantity':'sum'}).reset_index()\n",
    "print(sales_agg.shape); sales_agg.head(2)"
   ]
  },
  {
   "cell_type": "code",
   "execution_count": 11,
   "id": "2ba1a172-9710-48d9-babd-6d8cc3ec5f61",
   "metadata": {},
   "outputs": [
    {
     "name": "stdout",
     "output_type": "stream",
     "text": [
      "(11025, 3)\n"
     ]
    },
    {
     "data": {
      "text/html": [
       "<div>\n",
       "<style scoped>\n",
       "    .dataframe tbody tr th:only-of-type {\n",
       "        vertical-align: middle;\n",
       "    }\n",
       "\n",
       "    .dataframe tbody tr th {\n",
       "        vertical-align: top;\n",
       "    }\n",
       "\n",
       "    .dataframe thead th {\n",
       "        text-align: right;\n",
       "    }\n",
       "</style>\n",
       "<table border=\"1\" class=\"dataframe\">\n",
       "  <thead>\n",
       "    <tr style=\"text-align: right;\">\n",
       "      <th></th>\n",
       "      <th>timestamp</th>\n",
       "      <th>product_id</th>\n",
       "      <th>estimated_stock_pct</th>\n",
       "    </tr>\n",
       "  </thead>\n",
       "  <tbody>\n",
       "    <tr>\n",
       "      <th>0</th>\n",
       "      <td>2022-03-01 09:00:00</td>\n",
       "      <td>00e120bb-89d6-4df5-bc48-a051148e3d03</td>\n",
       "      <td>0.89</td>\n",
       "    </tr>\n",
       "    <tr>\n",
       "      <th>1</th>\n",
       "      <td>2022-03-01 09:00:00</td>\n",
       "      <td>01f3cdd9-8e9e-4dff-9b5c-69698a0388d0</td>\n",
       "      <td>0.14</td>\n",
       "    </tr>\n",
       "  </tbody>\n",
       "</table>\n",
       "</div>"
      ],
      "text/plain": [
       "            timestamp                            product_id  \\\n",
       "0 2022-03-01 09:00:00  00e120bb-89d6-4df5-bc48-a051148e3d03   \n",
       "1 2022-03-01 09:00:00  01f3cdd9-8e9e-4dff-9b5c-69698a0388d0   \n",
       "\n",
       "   estimated_stock_pct  \n",
       "0                 0.89  \n",
       "1                 0.14  "
      ]
     },
     "execution_count": 11,
     "metadata": {},
     "output_type": "execute_result"
    }
   ],
   "source": [
    "stock_agg = stock_df.groupby(['timestamp','product_id']).agg({'estimated_stock_pct':'mean'}).reset_index()\n",
    "print(stock_agg.shape); stock_agg.head(2)"
   ]
  },
  {
   "cell_type": "code",
   "execution_count": 12,
   "id": "31258ec2-7b7a-4a67-bfca-a84a4a8b5c5a",
   "metadata": {},
   "outputs": [
    {
     "name": "stdout",
     "output_type": "stream",
     "text": [
      "(11025, 4)\n"
     ]
    },
    {
     "data": {
      "text/html": [
       "<div>\n",
       "<style scoped>\n",
       "    .dataframe tbody tr th:only-of-type {\n",
       "        vertical-align: middle;\n",
       "    }\n",
       "\n",
       "    .dataframe tbody tr th {\n",
       "        vertical-align: top;\n",
       "    }\n",
       "\n",
       "    .dataframe thead th {\n",
       "        text-align: right;\n",
       "    }\n",
       "</style>\n",
       "<table border=\"1\" class=\"dataframe\">\n",
       "  <thead>\n",
       "    <tr style=\"text-align: right;\">\n",
       "      <th></th>\n",
       "      <th>timestamp</th>\n",
       "      <th>product_id</th>\n",
       "      <th>quantity</th>\n",
       "      <th>estimated_stock_pct</th>\n",
       "    </tr>\n",
       "  </thead>\n",
       "  <tbody>\n",
       "    <tr>\n",
       "      <th>0</th>\n",
       "      <td>2022-03-01 09:00:00</td>\n",
       "      <td>00e120bb-89d6-4df5-bc48-a051148e3d03</td>\n",
       "      <td>3.0</td>\n",
       "      <td>0.89</td>\n",
       "    </tr>\n",
       "    <tr>\n",
       "      <th>1</th>\n",
       "      <td>2022-03-01 09:00:00</td>\n",
       "      <td>01f3cdd9-8e9e-4dff-9b5c-69698a0388d0</td>\n",
       "      <td>3.0</td>\n",
       "      <td>0.14</td>\n",
       "    </tr>\n",
       "  </tbody>\n",
       "</table>\n",
       "</div>"
      ],
      "text/plain": [
       "            timestamp                            product_id  quantity  \\\n",
       "0 2022-03-01 09:00:00  00e120bb-89d6-4df5-bc48-a051148e3d03       3.0   \n",
       "1 2022-03-01 09:00:00  01f3cdd9-8e9e-4dff-9b5c-69698a0388d0       3.0   \n",
       "\n",
       "   estimated_stock_pct  \n",
       "0                 0.89  \n",
       "1                 0.14  "
      ]
     },
     "execution_count": 12,
     "metadata": {},
     "output_type": "execute_result"
    }
   ],
   "source": [
    "merge_df = sales_agg.merge(stock_agg, how='right', on=['timestamp','product_id'])\n",
    "print(merge_df.shape); merge_df.head(2)"
   ]
  },
  {
   "cell_type": "code",
   "execution_count": 13,
   "id": "c6527a01-2430-4db6-b723-770e28927976",
   "metadata": {},
   "outputs": [
    {
     "data": {
      "text/plain": [
       "8053"
      ]
     },
     "execution_count": 13,
     "metadata": {},
     "output_type": "execute_result"
    }
   ],
   "source": [
    "merge_df['quantity'].isnull().sum()"
   ]
  },
  {
   "cell_type": "markdown",
   "id": "b33a0be8-4eea-41f0-8069-c8159ec2341d",
   "metadata": {},
   "source": [
    "```\n",
    "If there is a null value for `quantity`, it represents that there were 0 sales of this product within this hour.\n",
    "\n",
    "So, lets fill this columns null values with 0, however, we should verify this with the client, in order to make sure we're not making any assumptions by filling these null values with 0.\n",
    "```"
   ]
  },
  {
   "cell_type": "code",
   "execution_count": 14,
   "id": "07aea503-9a72-499f-a2a2-b95edfd26ce7",
   "metadata": {},
   "outputs": [],
   "source": [
    "# Fill missing values in the 'quantity' column with 0\n",
    "merge_df['quantity'] = merge_df['quantity'].fillna(0)"
   ]
  },
  {
   "cell_type": "code",
   "execution_count": 15,
   "id": "968f8da5-9507-4105-b65d-498371baeb77",
   "metadata": {},
   "outputs": [
    {
     "name": "stdout",
     "output_type": "stream",
     "text": [
      "(84, 2)\n"
     ]
    },
    {
     "data": {
      "text/html": [
       "<div>\n",
       "<style scoped>\n",
       "    .dataframe tbody tr th:only-of-type {\n",
       "        vertical-align: middle;\n",
       "    }\n",
       "\n",
       "    .dataframe tbody tr th {\n",
       "        vertical-align: top;\n",
       "    }\n",
       "\n",
       "    .dataframe thead th {\n",
       "        text-align: right;\n",
       "    }\n",
       "</style>\n",
       "<table border=\"1\" class=\"dataframe\">\n",
       "  <thead>\n",
       "    <tr style=\"text-align: right;\">\n",
       "      <th></th>\n",
       "      <th>timestamp</th>\n",
       "      <th>temperature</th>\n",
       "    </tr>\n",
       "  </thead>\n",
       "  <tbody>\n",
       "    <tr>\n",
       "      <th>0</th>\n",
       "      <td>2022-03-01 09:00:00</td>\n",
       "      <td>-0.192988</td>\n",
       "    </tr>\n",
       "    <tr>\n",
       "      <th>1</th>\n",
       "      <td>2022-03-01 10:00:00</td>\n",
       "      <td>1.695658</td>\n",
       "    </tr>\n",
       "  </tbody>\n",
       "</table>\n",
       "</div>"
      ],
      "text/plain": [
       "            timestamp  temperature\n",
       "0 2022-03-01 09:00:00    -0.192988\n",
       "1 2022-03-01 10:00:00     1.695658"
      ]
     },
     "execution_count": 15,
     "metadata": {},
     "output_type": "execute_result"
    }
   ],
   "source": [
    "temp_agg = temp_df.groupby(['timestamp']).agg({'temperature':'mean'}).reset_index()\n",
    "print(temp_agg.shape); temp_agg.head(2)"
   ]
  },
  {
   "cell_type": "code",
   "execution_count": 16,
   "id": "4e500f2d-50d9-45a1-97c0-65bb774b7814",
   "metadata": {},
   "outputs": [
    {
     "name": "stdout",
     "output_type": "stream",
     "text": [
      "(11025, 5)\n"
     ]
    },
    {
     "data": {
      "text/html": [
       "<div>\n",
       "<style scoped>\n",
       "    .dataframe tbody tr th:only-of-type {\n",
       "        vertical-align: middle;\n",
       "    }\n",
       "\n",
       "    .dataframe tbody tr th {\n",
       "        vertical-align: top;\n",
       "    }\n",
       "\n",
       "    .dataframe thead th {\n",
       "        text-align: right;\n",
       "    }\n",
       "</style>\n",
       "<table border=\"1\" class=\"dataframe\">\n",
       "  <thead>\n",
       "    <tr style=\"text-align: right;\">\n",
       "      <th></th>\n",
       "      <th>timestamp</th>\n",
       "      <th>product_id</th>\n",
       "      <th>quantity</th>\n",
       "      <th>estimated_stock_pct</th>\n",
       "      <th>temperature</th>\n",
       "    </tr>\n",
       "  </thead>\n",
       "  <tbody>\n",
       "    <tr>\n",
       "      <th>0</th>\n",
       "      <td>2022-03-01 09:00:00</td>\n",
       "      <td>00e120bb-89d6-4df5-bc48-a051148e3d03</td>\n",
       "      <td>3.0</td>\n",
       "      <td>0.89</td>\n",
       "      <td>-0.192988</td>\n",
       "    </tr>\n",
       "    <tr>\n",
       "      <th>1</th>\n",
       "      <td>2022-03-01 09:00:00</td>\n",
       "      <td>01f3cdd9-8e9e-4dff-9b5c-69698a0388d0</td>\n",
       "      <td>3.0</td>\n",
       "      <td>0.14</td>\n",
       "      <td>-0.192988</td>\n",
       "    </tr>\n",
       "  </tbody>\n",
       "</table>\n",
       "</div>"
      ],
      "text/plain": [
       "            timestamp                            product_id  quantity  \\\n",
       "0 2022-03-01 09:00:00  00e120bb-89d6-4df5-bc48-a051148e3d03       3.0   \n",
       "1 2022-03-01 09:00:00  01f3cdd9-8e9e-4dff-9b5c-69698a0388d0       3.0   \n",
       "\n",
       "   estimated_stock_pct  temperature  \n",
       "0                 0.89    -0.192988  \n",
       "1                 0.14    -0.192988  "
      ]
     },
     "execution_count": 16,
     "metadata": {},
     "output_type": "execute_result"
    }
   ],
   "source": [
    "merge_df = merge_df.merge(temp_agg, how='left', on=['timestamp'])\n",
    "print(merge_df.shape); merge_df.head(2)"
   ]
  },
  {
   "cell_type": "code",
   "execution_count": 17,
   "id": "fbf216a6-4fe9-4f36-a376-8343a3f7b718",
   "metadata": {},
   "outputs": [
    {
     "data": {
      "text/plain": [
       "0"
      ]
     },
     "execution_count": 17,
     "metadata": {},
     "output_type": "execute_result"
    }
   ],
   "source": [
    "merge_df['temperature'].isnull().sum()"
   ]
  },
  {
   "cell_type": "code",
   "execution_count": 18,
   "id": "11eee91f-51df-4533-a4b4-31a483f9a1d4",
   "metadata": {},
   "outputs": [
    {
     "name": "stdout",
     "output_type": "stream",
     "text": [
      "(300, 3)\n"
     ]
    },
    {
     "data": {
      "text/html": [
       "<div>\n",
       "<style scoped>\n",
       "    .dataframe tbody tr th:only-of-type {\n",
       "        vertical-align: middle;\n",
       "    }\n",
       "\n",
       "    .dataframe tbody tr th {\n",
       "        vertical-align: top;\n",
       "    }\n",
       "\n",
       "    .dataframe thead th {\n",
       "        text-align: right;\n",
       "    }\n",
       "</style>\n",
       "<table border=\"1\" class=\"dataframe\">\n",
       "  <thead>\n",
       "    <tr style=\"text-align: right;\">\n",
       "      <th></th>\n",
       "      <th>product_id</th>\n",
       "      <th>category</th>\n",
       "      <th>unit_price</th>\n",
       "    </tr>\n",
       "  </thead>\n",
       "  <tbody>\n",
       "    <tr>\n",
       "      <th>0</th>\n",
       "      <td>3bc6c1ea-0198-46de-9ffd-514ae3338713</td>\n",
       "      <td>fruit</td>\n",
       "      <td>3.99</td>\n",
       "    </tr>\n",
       "    <tr>\n",
       "      <th>1</th>\n",
       "      <td>ad81b46c-bf38-41cf-9b54-5fe7f5eba93e</td>\n",
       "      <td>fruit</td>\n",
       "      <td>3.99</td>\n",
       "    </tr>\n",
       "  </tbody>\n",
       "</table>\n",
       "</div>"
      ],
      "text/plain": [
       "                             product_id category  unit_price\n",
       "0  3bc6c1ea-0198-46de-9ffd-514ae3338713    fruit        3.99\n",
       "1  ad81b46c-bf38-41cf-9b54-5fe7f5eba93e    fruit        3.99"
      ]
     },
     "execution_count": 18,
     "metadata": {},
     "output_type": "execute_result"
    }
   ],
   "source": [
    "product_details = sales_df[['product_id','category','unit_price']].drop_duplicates()\n",
    "print(product_details.shape); product_details.head(2)"
   ]
  },
  {
   "cell_type": "code",
   "execution_count": 19,
   "id": "d1a3a5b2-1f31-4eef-8f44-d74917be183a",
   "metadata": {},
   "outputs": [
    {
     "name": "stdout",
     "output_type": "stream",
     "text": [
      "(11025, 7)\n"
     ]
    },
    {
     "data": {
      "text/html": [
       "<div>\n",
       "<style scoped>\n",
       "    .dataframe tbody tr th:only-of-type {\n",
       "        vertical-align: middle;\n",
       "    }\n",
       "\n",
       "    .dataframe tbody tr th {\n",
       "        vertical-align: top;\n",
       "    }\n",
       "\n",
       "    .dataframe thead th {\n",
       "        text-align: right;\n",
       "    }\n",
       "</style>\n",
       "<table border=\"1\" class=\"dataframe\">\n",
       "  <thead>\n",
       "    <tr style=\"text-align: right;\">\n",
       "      <th></th>\n",
       "      <th>timestamp</th>\n",
       "      <th>product_id</th>\n",
       "      <th>quantity</th>\n",
       "      <th>estimated_stock_pct</th>\n",
       "      <th>temperature</th>\n",
       "      <th>category</th>\n",
       "      <th>unit_price</th>\n",
       "    </tr>\n",
       "  </thead>\n",
       "  <tbody>\n",
       "    <tr>\n",
       "      <th>0</th>\n",
       "      <td>2022-03-01 09:00:00</td>\n",
       "      <td>00e120bb-89d6-4df5-bc48-a051148e3d03</td>\n",
       "      <td>3.0</td>\n",
       "      <td>0.89</td>\n",
       "      <td>-0.192988</td>\n",
       "      <td>kitchen</td>\n",
       "      <td>11.19</td>\n",
       "    </tr>\n",
       "    <tr>\n",
       "      <th>1</th>\n",
       "      <td>2022-03-01 09:00:00</td>\n",
       "      <td>01f3cdd9-8e9e-4dff-9b5c-69698a0388d0</td>\n",
       "      <td>3.0</td>\n",
       "      <td>0.14</td>\n",
       "      <td>-0.192988</td>\n",
       "      <td>vegetables</td>\n",
       "      <td>1.49</td>\n",
       "    </tr>\n",
       "  </tbody>\n",
       "</table>\n",
       "</div>"
      ],
      "text/plain": [
       "            timestamp                            product_id  quantity  \\\n",
       "0 2022-03-01 09:00:00  00e120bb-89d6-4df5-bc48-a051148e3d03       3.0   \n",
       "1 2022-03-01 09:00:00  01f3cdd9-8e9e-4dff-9b5c-69698a0388d0       3.0   \n",
       "\n",
       "   estimated_stock_pct  temperature    category  unit_price  \n",
       "0                 0.89    -0.192988     kitchen       11.19  \n",
       "1                 0.14    -0.192988  vegetables        1.49  "
      ]
     },
     "execution_count": 19,
     "metadata": {},
     "output_type": "execute_result"
    }
   ],
   "source": [
    "merge_df = merge_df.merge(product_details, how='left', on='product_id')\n",
    "print(merge_df.shape); merge_df.head(2)"
   ]
  },
  {
   "cell_type": "markdown",
   "id": "42b3d922-9844-4a7f-8a12-584dacb68cfa",
   "metadata": {
    "jp-MarkdownHeadingCollapsed": true
   },
   "source": [
    "### Feature Engineering"
   ]
  },
  {
   "cell_type": "code",
   "execution_count": 32,
   "id": "341494c4-0b3c-40aa-abf1-5d2b670717c6",
   "metadata": {},
   "outputs": [
    {
     "name": "stdout",
     "output_type": "stream",
     "text": [
      "<class 'pandas.core.frame.DataFrame'>\n",
      "RangeIndex: 11025 entries, 0 to 11024\n",
      "Data columns (total 7 columns):\n",
      " #   Column               Non-Null Count  Dtype         \n",
      "---  ------               --------------  -----         \n",
      " 0   timestamp            11025 non-null  datetime64[ns]\n",
      " 1   product_id           11025 non-null  object        \n",
      " 2   quantity             11025 non-null  float64       \n",
      " 3   estimated_stock_pct  11025 non-null  float64       \n",
      " 4   temperature          11025 non-null  float64       \n",
      " 5   category             11025 non-null  object        \n",
      " 6   unit_price           11025 non-null  float64       \n",
      "dtypes: datetime64[ns](1), float64(4), object(2)\n",
      "memory usage: 603.1+ KB\n"
     ]
    }
   ],
   "source": [
    "final_df = merge_df.copy()\n",
    "final_df.head(2); final_df.info()"
   ]
  },
  {
   "cell_type": "code",
   "execution_count": 33,
   "id": "a9463996-dd90-496a-b9fe-0a117f71ca23",
   "metadata": {},
   "outputs": [
    {
     "name": "stdout",
     "output_type": "stream",
     "text": [
      "(11025, 9)\n"
     ]
    },
    {
     "data": {
      "text/html": [
       "<div>\n",
       "<style scoped>\n",
       "    .dataframe tbody tr th:only-of-type {\n",
       "        vertical-align: middle;\n",
       "    }\n",
       "\n",
       "    .dataframe tbody tr th {\n",
       "        vertical-align: top;\n",
       "    }\n",
       "\n",
       "    .dataframe thead th {\n",
       "        text-align: right;\n",
       "    }\n",
       "</style>\n",
       "<table border=\"1\" class=\"dataframe\">\n",
       "  <thead>\n",
       "    <tr style=\"text-align: right;\">\n",
       "      <th></th>\n",
       "      <th>product_id</th>\n",
       "      <th>quantity</th>\n",
       "      <th>estimated_stock_pct</th>\n",
       "      <th>temperature</th>\n",
       "      <th>category</th>\n",
       "      <th>unit_price</th>\n",
       "      <th>day_of_month</th>\n",
       "      <th>day_of_week</th>\n",
       "      <th>hour</th>\n",
       "    </tr>\n",
       "  </thead>\n",
       "  <tbody>\n",
       "    <tr>\n",
       "      <th>0</th>\n",
       "      <td>00e120bb-89d6-4df5-bc48-a051148e3d03</td>\n",
       "      <td>3.0</td>\n",
       "      <td>0.89</td>\n",
       "      <td>-0.192988</td>\n",
       "      <td>kitchen</td>\n",
       "      <td>11.19</td>\n",
       "      <td>1</td>\n",
       "      <td>1</td>\n",
       "      <td>9</td>\n",
       "    </tr>\n",
       "    <tr>\n",
       "      <th>1</th>\n",
       "      <td>01f3cdd9-8e9e-4dff-9b5c-69698a0388d0</td>\n",
       "      <td>3.0</td>\n",
       "      <td>0.14</td>\n",
       "      <td>-0.192988</td>\n",
       "      <td>vegetables</td>\n",
       "      <td>1.49</td>\n",
       "      <td>1</td>\n",
       "      <td>1</td>\n",
       "      <td>9</td>\n",
       "    </tr>\n",
       "  </tbody>\n",
       "</table>\n",
       "</div>"
      ],
      "text/plain": [
       "                             product_id  quantity  estimated_stock_pct  \\\n",
       "0  00e120bb-89d6-4df5-bc48-a051148e3d03       3.0                 0.89   \n",
       "1  01f3cdd9-8e9e-4dff-9b5c-69698a0388d0       3.0                 0.14   \n",
       "\n",
       "   temperature    category  unit_price  day_of_month  day_of_week  hour  \n",
       "0    -0.192988     kitchen       11.19             1            1     9  \n",
       "1    -0.192988  vegetables        1.49             1            1     9  "
      ]
     },
     "execution_count": 33,
     "metadata": {},
     "output_type": "execute_result"
    }
   ],
   "source": [
    "final_df['day_of_month'] = final_df['timestamp'].dt.day.astype('uint8')\n",
    "final_df['day_of_week'] = final_df['timestamp'].dt.day_of_week.astype('uint8')\n",
    "final_df['hour'] = final_df['timestamp'].dt.hour.astype('uint8')\n",
    "final_df.drop(columns=['timestamp'],inplace=True)\n",
    "print(final_df.shape); final_df.head(2)"
   ]
  },
  {
   "cell_type": "markdown",
   "id": "1d1710a9-68a5-424d-8a86-ebc822a4bfa8",
   "metadata": {},
   "source": [
    "**OHE of (category) & W/O product_id**"
   ]
  },
  {
   "cell_type": "code",
   "execution_count": 22,
   "id": "0efcb288-48e8-4d29-b61a-0d693828200c",
   "metadata": {},
   "outputs": [],
   "source": [
    "final_df = pd.get_dummies(final_df, columns=['category'], dtype='uint8')\n",
    "final_df.drop(columns=['product_id'],inplace=True)"
   ]
  },
  {
   "cell_type": "markdown",
   "id": "d2155f08-b9ca-44cd-98ea-6754daf80c9b",
   "metadata": {},
   "source": [
    "**OHE of (product_id & category)**"
   ]
  },
  {
   "cell_type": "code",
   "execution_count": 36,
   "id": "23aa60e1-c346-4cd3-b639-f69d8d4bca31",
   "metadata": {},
   "outputs": [],
   "source": [
    "cat_columns = ['product_id','category']\n",
    "final_df = pd.get_dummies(final_df, columns=cat_columns, dtype='uint8')"
   ]
  },
  {
   "cell_type": "markdown",
   "id": "205f0b37-bc4d-41cf-9c0d-23957c135597",
   "metadata": {},
   "source": [
    "**OHE of  (product_id, category, day_of_month, day_of_week, hour)**"
   ]
  },
  {
   "cell_type": "code",
   "execution_count": 94,
   "id": "03653fcd-69de-4620-8223-16be13db2fe5",
   "metadata": {},
   "outputs": [],
   "source": [
    "cat_columns = ['product_id','category','day_of_month','day_of_week','hour']\n",
    "final_df = pd.get_dummies(final_df, columns=cat_columns, dtype='uint8')"
   ]
  },
  {
   "cell_type": "markdown",
   "id": "c7eeff6d-db52-460b-a96f-86df57786608",
   "metadata": {},
   "source": [
    "**Type='category' for (product_id & category)**"
   ]
  },
  {
   "cell_type": "code",
   "execution_count": 25,
   "id": "12d57274-f869-4350-9f7a-d2a5b1d9fd67",
   "metadata": {},
   "outputs": [],
   "source": [
    "cat_columns = ['product_id','category']\n",
    "final_df[cat_columns] = final_df[cat_columns].astype('category')"
   ]
  },
  {
   "cell_type": "markdown",
   "id": "8fe3b5f4-9296-4fd9-b5a4-0dee58cde34a",
   "metadata": {},
   "source": [
    "**Type='category' for (product_id, category, day_of_month, day_of_week, hour)**"
   ]
  },
  {
   "cell_type": "code",
   "execution_count": 34,
   "id": "b9c9a2ae-6f6f-472b-b11d-295898a53a71",
   "metadata": {},
   "outputs": [],
   "source": [
    "cat_columns = ['product_id','category','day_of_month','day_of_week','hour']\n",
    "final_df[cat_columns] = final_df[cat_columns].astype('category')"
   ]
  },
  {
   "cell_type": "markdown",
   "id": "fd05079e-92fa-467e-9a99-d8dabe3eac11",
   "metadata": {
    "jp-MarkdownHeadingCollapsed": true
   },
   "source": [
    "### Pre Processing"
   ]
  },
  {
   "cell_type": "code",
   "execution_count": 35,
   "id": "84602602-4f17-40a8-9c65-a0d56f7d937d",
   "metadata": {},
   "outputs": [
    {
     "name": "stdout",
     "output_type": "stream",
     "text": [
      "(11025, 9)\n"
     ]
    },
    {
     "data": {
      "text/html": [
       "<div>\n",
       "<style scoped>\n",
       "    .dataframe tbody tr th:only-of-type {\n",
       "        vertical-align: middle;\n",
       "    }\n",
       "\n",
       "    .dataframe tbody tr th {\n",
       "        vertical-align: top;\n",
       "    }\n",
       "\n",
       "    .dataframe thead th {\n",
       "        text-align: right;\n",
       "    }\n",
       "</style>\n",
       "<table border=\"1\" class=\"dataframe\">\n",
       "  <thead>\n",
       "    <tr style=\"text-align: right;\">\n",
       "      <th></th>\n",
       "      <th>product_id</th>\n",
       "      <th>quantity</th>\n",
       "      <th>estimated_stock_pct</th>\n",
       "      <th>temperature</th>\n",
       "      <th>category</th>\n",
       "      <th>unit_price</th>\n",
       "      <th>day_of_month</th>\n",
       "      <th>day_of_week</th>\n",
       "      <th>hour</th>\n",
       "    </tr>\n",
       "  </thead>\n",
       "  <tbody>\n",
       "    <tr>\n",
       "      <th>0</th>\n",
       "      <td>00e120bb-89d6-4df5-bc48-a051148e3d03</td>\n",
       "      <td>3.0</td>\n",
       "      <td>0.89</td>\n",
       "      <td>-0.192988</td>\n",
       "      <td>kitchen</td>\n",
       "      <td>11.19</td>\n",
       "      <td>1</td>\n",
       "      <td>1</td>\n",
       "      <td>9</td>\n",
       "    </tr>\n",
       "    <tr>\n",
       "      <th>1</th>\n",
       "      <td>01f3cdd9-8e9e-4dff-9b5c-69698a0388d0</td>\n",
       "      <td>3.0</td>\n",
       "      <td>0.14</td>\n",
       "      <td>-0.192988</td>\n",
       "      <td>vegetables</td>\n",
       "      <td>1.49</td>\n",
       "      <td>1</td>\n",
       "      <td>1</td>\n",
       "      <td>9</td>\n",
       "    </tr>\n",
       "  </tbody>\n",
       "</table>\n",
       "</div>"
      ],
      "text/plain": [
       "                             product_id  quantity  estimated_stock_pct  \\\n",
       "0  00e120bb-89d6-4df5-bc48-a051148e3d03       3.0                 0.89   \n",
       "1  01f3cdd9-8e9e-4dff-9b5c-69698a0388d0       3.0                 0.14   \n",
       "\n",
       "   temperature    category  unit_price day_of_month day_of_week hour  \n",
       "0    -0.192988     kitchen       11.19            1           1    9  \n",
       "1    -0.192988  vegetables        1.49            1           1    9  "
      ]
     },
     "execution_count": 35,
     "metadata": {},
     "output_type": "execute_result"
    }
   ],
   "source": [
    "print(final_df.shape); final_df.head(2)"
   ]
  },
  {
   "cell_type": "code",
   "execution_count": 36,
   "id": "ef872191-3c32-4803-bdba-788910a768e9",
   "metadata": {},
   "outputs": [],
   "source": [
    "X = final_df.drop(columns=['estimated_stock_pct'], axis=1)\n",
    "y = final_df['estimated_stock_pct']"
   ]
  },
  {
   "cell_type": "code",
   "execution_count": 37,
   "id": "5fb0f086-30e7-40b9-9d87-958565f0cf2d",
   "metadata": {},
   "outputs": [
    {
     "name": "stdout",
     "output_type": "stream",
     "text": [
      "X_train: (8820, 8)  y_train: (8820,)\n",
      "X_test:  (2205, 8)    y_test: (2205,)\n"
     ]
    }
   ],
   "source": [
    "from sklearn.model_selection import train_test_split\n",
    "X_train, X_test, y_train, y_test = train_test_split(X, y, test_size=0.2, random_state=42)\n",
    "print(f'X_train: {X_train.shape}  y_train: {y_train.shape}')\n",
    "print(f'X_test:  {X_test.shape}    y_test: {y_test.shape}')"
   ]
  },
  {
   "cell_type": "markdown",
   "id": "05fa4d87-7bf2-432f-a92c-6ad9eb168587",
   "metadata": {},
   "source": [
    "#### Standardisation"
   ]
  },
  {
   "cell_type": "code",
   "execution_count": 38,
   "id": "9691a3eb-8eeb-449a-b93f-3e92493e7140",
   "metadata": {},
   "outputs": [
    {
     "data": {
      "text/html": [
       "<div>\n",
       "<style scoped>\n",
       "    .dataframe tbody tr th:only-of-type {\n",
       "        vertical-align: middle;\n",
       "    }\n",
       "\n",
       "    .dataframe tbody tr th {\n",
       "        vertical-align: top;\n",
       "    }\n",
       "\n",
       "    .dataframe thead th {\n",
       "        text-align: right;\n",
       "    }\n",
       "</style>\n",
       "<table border=\"1\" class=\"dataframe\">\n",
       "  <thead>\n",
       "    <tr style=\"text-align: right;\">\n",
       "      <th></th>\n",
       "      <th>product_id</th>\n",
       "      <th>quantity</th>\n",
       "      <th>temperature</th>\n",
       "      <th>category</th>\n",
       "      <th>unit_price</th>\n",
       "      <th>day_of_month</th>\n",
       "      <th>day_of_week</th>\n",
       "      <th>hour</th>\n",
       "    </tr>\n",
       "  </thead>\n",
       "  <tbody>\n",
       "    <tr>\n",
       "      <th>0</th>\n",
       "      <td>00e120bb-89d6-4df5-bc48-a051148e3d03</td>\n",
       "      <td>3.0</td>\n",
       "      <td>-0.192988</td>\n",
       "      <td>kitchen</td>\n",
       "      <td>11.19</td>\n",
       "      <td>1</td>\n",
       "      <td>1</td>\n",
       "      <td>9</td>\n",
       "    </tr>\n",
       "    <tr>\n",
       "      <th>1</th>\n",
       "      <td>01f3cdd9-8e9e-4dff-9b5c-69698a0388d0</td>\n",
       "      <td>3.0</td>\n",
       "      <td>-0.192988</td>\n",
       "      <td>vegetables</td>\n",
       "      <td>1.49</td>\n",
       "      <td>1</td>\n",
       "      <td>1</td>\n",
       "      <td>9</td>\n",
       "    </tr>\n",
       "  </tbody>\n",
       "</table>\n",
       "</div>"
      ],
      "text/plain": [
       "                             product_id  quantity  temperature    category  \\\n",
       "0  00e120bb-89d6-4df5-bc48-a051148e3d03       3.0    -0.192988     kitchen   \n",
       "1  01f3cdd9-8e9e-4dff-9b5c-69698a0388d0       3.0    -0.192988  vegetables   \n",
       "\n",
       "   unit_price day_of_month day_of_week hour  \n",
       "0       11.19            1           1    9  \n",
       "1        1.49            1           1    9  "
      ]
     },
     "execution_count": 38,
     "metadata": {},
     "output_type": "execute_result"
    }
   ],
   "source": [
    "X.head(2)"
   ]
  },
  {
   "cell_type": "markdown",
   "id": "8665dfa5-4d50-487d-a186-84d973ee4045",
   "metadata": {},
   "source": [
    "**With (category) as OHE and W/O product_id --------or--------  With (product_id & category) as OHE**"
   ]
  },
  {
   "cell_type": "code",
   "execution_count": 27,
   "id": "ba42463e-535a-4487-8262-59046a80454f",
   "metadata": {},
   "outputs": [],
   "source": [
    "# Standardisation of numerical features of x_train\n",
    "from sklearn.preprocessing import StandardScaler\n",
    "std_scaler = StandardScaler()\n",
    "\n",
    "X_train.iloc[:,:6] = std_scaler.fit_transform(X_train.iloc[:,:6])\n",
    "X_test.iloc[:,:6] = std_scaler.transform(X_test.iloc[:,:6])"
   ]
  },
  {
   "cell_type": "markdown",
   "id": "7971057b-080b-44a1-987b-61eb487c86e3",
   "metadata": {},
   "source": [
    "**With (product_id, category, day_of_month, day_of_week, hour) as OHE**"
   ]
  },
  {
   "cell_type": "code",
   "execution_count": 32,
   "id": "e71964af-23c5-4037-9f8c-598f720e7c16",
   "metadata": {},
   "outputs": [],
   "source": [
    "# Standardisation of numerical features of x_train\n",
    "from sklearn.preprocessing import StandardScaler\n",
    "std_scaler = StandardScaler()\n",
    "\n",
    "float_col = [idx for idx, dtype in enumerate(X.dtypes) if 'float' in str(dtype)]\n",
    "X_train.iloc[:,float_col] = std_scaler.fit_transform(X_train.iloc[:,float_col])\n",
    "X_test.iloc[:,float_col] = std_scaler.transform(X_test.iloc[:,float_col])"
   ]
  },
  {
   "cell_type": "markdown",
   "id": "ddb6ee6d-873c-4922-bbf1-444df089dfe5",
   "metadata": {},
   "source": [
    "**With Categorical columns**"
   ]
  },
  {
   "cell_type": "code",
   "execution_count": 39,
   "id": "73ef264f-5069-4046-9d49-3e578aa34d2a",
   "metadata": {},
   "outputs": [],
   "source": [
    "# Standardisation of numerical features of x_train\n",
    "from sklearn.preprocessing import StandardScaler\n",
    "std_scaler = StandardScaler()\n",
    "\n",
    "non_cat_col = [idx for idx, dtype in enumerate(X.dtypes) if dtype.kind in ['i', 'u', 'f']]\n",
    "X_train.iloc[:,non_cat_col] = std_scaler.fit_transform(X_train.iloc[:,non_cat_col])\n",
    "X_test.iloc[:,non_cat_col] = std_scaler.transform(X_test.iloc[:,non_cat_col])"
   ]
  },
  {
   "cell_type": "markdown",
   "id": "7284513e-446e-4994-9114-229d0049d694",
   "metadata": {
    "jp-MarkdownHeadingCollapsed": true
   },
   "source": [
    "### Functions"
   ]
  },
  {
   "cell_type": "code",
   "execution_count": 28,
   "id": "75dfb588-0ab2-41bc-ab18-e776ed7e19c9",
   "metadata": {},
   "outputs": [],
   "source": [
    "def print_cross_val_score(estimator, X, y, cv=5, **kwargs):\n",
    "    import numpy as np\n",
    "    from sklearn.model_selection import cross_val_score\n",
    "    accuracy = cross_val_score(estimator, X, y, cv=cv, **kwargs)\n",
    "    print(f'Cross Validation Score ({cv} Fold)')\n",
    "    print(f\"Accuracy Mean : {np.mean(accuracy)} \")\n",
    "    print(f\"Accuracy Std  : {np.std(accuracy)*100:.2f} %\")"
   ]
  },
  {
   "cell_type": "code",
   "execution_count": 29,
   "id": "8c34d7a0-9f21-444d-9651-ea63cbd099e1",
   "metadata": {},
   "outputs": [],
   "source": [
    "def print_eval_metric(y_true, y_pred, n_features):\n",
    "    from sklearn.metrics import mean_absolute_error, mean_squared_error, r2_score\n",
    "    for metric in [mean_absolute_error, mean_squared_error, r2_score]:\n",
    "        print(f\"{metric.__name__} : {metric(y_true, y_pred)}\")\n",
    "    n = y_true.shape[0]\n",
    "    p = n_features\n",
    "    adjusted_r_squared = 1 - (1 - r2_score(y_true, y_pred)) * (n - 1) / (n - p - 1)\n",
    "    print(f\"adjusted_r2: {adjusted_r_squared}\")"
   ]
  },
  {
   "cell_type": "markdown",
   "id": "7b32b93f-c532-4afe-93af-14c85bc4defa",
   "metadata": {
    "jp-MarkdownHeadingCollapsed": true
   },
   "source": [
    "### Modelling"
   ]
  },
  {
   "cell_type": "markdown",
   "id": "5a714964-5aad-4ac2-973e-d54e586d5596",
   "metadata": {
    "jp-MarkdownHeadingCollapsed": true
   },
   "source": [
    "#### CatBoost"
   ]
  },
  {
   "cell_type": "code",
   "execution_count": 40,
   "id": "33ab4c8c-7d52-4e9a-a11e-ba7743f7d3e4",
   "metadata": {
    "scrolled": true
   },
   "outputs": [],
   "source": [
    "from catboost import CatBoostRegressor\n",
    "\n",
    "cat_columns = [col for col in X_train.select_dtypes('category').columns]\n",
    "catboost_reg = CatBoostRegressor(cat_features=cat_columns, verbose=False, random_state=42)\n",
    "catboost_reg.fit(X_train, y_train)\n",
    "y_pred_catboost = catboost_reg.predict(X_test)"
   ]
  },
  {
   "cell_type": "markdown",
   "id": "0df542b0-d038-4fa0-9799-872a4a0cc5e7",
   "metadata": {},
   "source": [
    "**With (product_id, category, day_of_month, day_of_week, hour) as Cat**"
   ]
  },
  {
   "cell_type": "code",
   "execution_count": null,
   "id": "13db1e88-5244-4d96-b410-2f87736f456b",
   "metadata": {},
   "outputs": [],
   "source": [
    "print_cross_val_score(catboost_reg, X_train, y_train, cv=10)"
   ]
  },
  {
   "cell_type": "code",
   "execution_count": 41,
   "id": "ccfe7460-cd83-4514-b221-468d4a334ab4",
   "metadata": {
    "scrolled": true
   },
   "outputs": [
    {
     "name": "stdout",
     "output_type": "stream",
     "text": [
      "mean_absolute_error : 0.22330549626951016\n",
      "mean_squared_error : 0.06984075435155469\n",
      "r2_score : -0.015859267330865734\n",
      "adjusted_r2: -0.01956002968908388\n"
     ]
    }
   ],
   "source": [
    "print_eval_metric(y_test, y_pred_catboost, n_features=X_test.shape[1])"
   ]
  },
  {
   "cell_type": "markdown",
   "id": "71571a59-68be-4cd7-8083-9c4cd132e727",
   "metadata": {},
   "source": [
    "**With (product_id & category) as Cat**"
   ]
  },
  {
   "cell_type": "code",
   "execution_count": 45,
   "id": "c3acecf0-834e-4668-be92-e7c6da5d58b0",
   "metadata": {},
   "outputs": [
    {
     "name": "stdout",
     "output_type": "stream",
     "text": [
      "Cross Validation Score (10 Fold)\n",
      "Accuracy Mean : -0.030805452920506272 \n",
      "Accuracy Std  : 1.41 %\n"
     ]
    }
   ],
   "source": [
    "print_cross_val_score(catboost_reg, X_train, y_train, cv=10)"
   ]
  },
  {
   "cell_type": "code",
   "execution_count": 44,
   "id": "504601d6-8dc3-4c1c-b65f-27b66a48afc1",
   "metadata": {
    "scrolled": true
   },
   "outputs": [
    {
     "name": "stdout",
     "output_type": "stream",
     "text": [
      "mean_absolute_error : 0.22558049170451833\n",
      "mean_squared_error : 0.07195492100335407\n",
      "r2_score : -0.033028491731409204\n",
      "adjusted_r2: -0.03534340151680171\n"
     ]
    }
   ],
   "source": [
    "print_eval_metric(y_test, y_pred_catboost, n_features=X_test.shape[1])"
   ]
  },
  {
   "cell_type": "markdown",
   "id": "77594029-64c6-42bc-9e45-ea7ab567ce22",
   "metadata": {},
   "source": [
    "**With (category) as Cat and W/O product_id**"
   ]
  },
  {
   "cell_type": "code",
   "execution_count": 44,
   "id": "6c76fba3-81bf-486c-9541-721c91c1c38e",
   "metadata": {},
   "outputs": [
    {
     "name": "stdout",
     "output_type": "stream",
     "text": [
      "Cross Validation Score (10 Fold)\n",
      "Accuracy Mean : -0.07680807366748996 \n",
      "Accuracy Std  : 1.50 %\n"
     ]
    }
   ],
   "source": [
    "print_cross_val_score(catboost_reg, X_train, y_train, cv=10)"
   ]
  },
  {
   "cell_type": "code",
   "execution_count": 45,
   "id": "6254cd61-e307-43de-bd2f-06fe02efde39",
   "metadata": {
    "scrolled": true
   },
   "outputs": [
    {
     "name": "stdout",
     "output_type": "stream",
     "text": [
      "mean_absolute_error : 0.22947017260488484\n",
      "mean_squared_error : 0.07467748253906709\n",
      "r2_score : -0.07211523656644925\n",
      "adjusted_r2: -0.08057135674218463\n"
     ]
    }
   ],
   "source": [
    "print_eval_metric(y_test, y_pred_catboost, n_features=X_test.shape[1])"
   ]
  },
  {
   "cell_type": "markdown",
   "id": "22cedba6-3a4a-48cd-b4c4-7e77daa963e3",
   "metadata": {},
   "source": [
    "**With (product_id & category) as OHE**"
   ]
  },
  {
   "cell_type": "code",
   "execution_count": 38,
   "id": "07c193ba-0893-4791-8d17-5cdced54ff27",
   "metadata": {},
   "outputs": [
    {
     "name": "stdout",
     "output_type": "stream",
     "text": [
      "Cross Validation Score (10 Fold)\n",
      "Accuracy Mean : -0.04813271672972554 \n",
      "Accuracy Std  : 1.66 %\n"
     ]
    }
   ],
   "source": [
    "print_cross_val_score(catboost_reg, X_train, y_train, cv=10)"
   ]
  },
  {
   "cell_type": "code",
   "execution_count": 39,
   "id": "31ef7a62-28a3-422b-b2af-34aecb882e32",
   "metadata": {
    "scrolled": true
   },
   "outputs": [
    {
     "name": "stdout",
     "output_type": "stream",
     "text": [
      "mean_absolute_error : 0.22763586725456125\n",
      "mean_squared_error : 0.07358621740485435\n",
      "r2_score : -0.0564483723693181\n",
      "adjusted_r2: -0.16306839271920626\n"
     ]
    }
   ],
   "source": [
    "print_eval_metric(y_test, y_pred_catboost, n_features=X_test.shape[1])"
   ]
  },
  {
   "cell_type": "markdown",
   "id": "12b59c6c-23bb-4942-8d99-3aa5abcaee0b",
   "metadata": {},
   "source": [
    "**With (product_id, category, day_of_month, day_of_week, hour) as OHE**"
   ]
  },
  {
   "cell_type": "code",
   "execution_count": 40,
   "id": "57f1324f-3962-4ca8-9ba6-7c313b320772",
   "metadata": {},
   "outputs": [
    {
     "name": "stdout",
     "output_type": "stream",
     "text": [
      "Cross Validation Score (10 Fold)\n",
      "Accuracy Mean : -0.04292175652390127 \n",
      "Accuracy Std  : 1.11 %\n"
     ]
    }
   ],
   "source": [
    "print_cross_val_score(catboost_reg, X_train, y_train, cv=10)"
   ]
  },
  {
   "cell_type": "code",
   "execution_count": 39,
   "id": "d2977a84-be0e-4c14-9b34-891c9cb4c90d",
   "metadata": {
    "scrolled": true
   },
   "outputs": [
    {
     "name": "stdout",
     "output_type": "stream",
     "text": [
      "mean_absolute_error : 0.22480498639280713\n",
      "mean_squared_error : 0.07131503529820227\n",
      "r2_score : -0.03730322188442825\n",
      "adjusted_r2: -0.23379185160997284\n"
     ]
    }
   ],
   "source": [
    "print_eval_metric(y_test, y_pred_catboost, n_features=X_test.shape[1])"
   ]
  },
  {
   "cell_type": "markdown",
   "id": "0e737d8e-ccb0-4b09-9c44-fdf4156edd02",
   "metadata": {
    "jp-MarkdownHeadingCollapsed": true
   },
   "source": [
    "#### XGBoost"
   ]
  },
  {
   "cell_type": "markdown",
   "id": "fce4cb7a-5783-41b5-b26f-fe36061a6c8b",
   "metadata": {},
   "source": [
    "**With (product_id, category, day_of_month, day_of_week, hour) as Cat**"
   ]
  },
  {
   "cell_type": "code",
   "execution_count": 48,
   "id": "69629178-9cc5-45fa-93f6-bc2ce3f8e51a",
   "metadata": {},
   "outputs": [],
   "source": [
    "from xgboost import XGBRegressor\n",
    "\n",
    "xgb_reg = XGBRegressor(enable_categorical=True)\n",
    "xgb_reg.fit(X_train, y_train)\n",
    "y_pred_xgb = xgb_reg.predict(X_test)"
   ]
  },
  {
   "cell_type": "code",
   "execution_count": 41,
   "id": "ab822ea6-195f-4548-b1ce-6199d84da339",
   "metadata": {},
   "outputs": [
    {
     "name": "stdout",
     "output_type": "stream",
     "text": [
      "Cross Validation Score (10 Fold)\n",
      "Accuracy Mean : -0.203030175522591 \n",
      "Accuracy Std  : 3.48 %\n"
     ]
    }
   ],
   "source": [
    "print_cross_val_score(xgb_reg, X_train, y_train, cv=10)"
   ]
  },
  {
   "cell_type": "code",
   "execution_count": 42,
   "id": "10b0f157-198f-415e-8383-65fc7509fb0d",
   "metadata": {},
   "outputs": [
    {
     "name": "stdout",
     "output_type": "stream",
     "text": [
      "mean_absolute_error : 0.23891256826872725\n",
      "mean_squared_error : 0.08236139915761997\n",
      "r2_score : -0.18243020438753255\n",
      "adjusted_r2: -0.19175641445030744\n"
     ]
    }
   ],
   "source": [
    "print_eval_metric(y_test, y_pred_xgb, n_features=X_test.shape[1])"
   ]
  },
  {
   "cell_type": "markdown",
   "id": "261d048a-7b5b-4b3a-9ff5-858e9e284e03",
   "metadata": {
    "jp-MarkdownHeadingCollapsed": true
   },
   "source": [
    "#### Random Forest Regression"
   ]
  },
  {
   "cell_type": "markdown",
   "id": "47053831-ad81-45a7-893e-fc6a3c207baf",
   "metadata": {},
   "source": [
    "**With (product_id & category) as OHE**"
   ]
  },
  {
   "cell_type": "code",
   "execution_count": 41,
   "id": "eea807cf-fb5f-4f72-9f65-5c8dd507604f",
   "metadata": {},
   "outputs": [],
   "source": [
    "from sklearn.ensemble import RandomForestRegressor\n",
    "rf_reg = RandomForestRegressor(random_state=42)\n",
    "rf_reg.fit(X_train, y_train)\n",
    "y_pred_rf = rf_reg.predict(X_test)"
   ]
  },
  {
   "cell_type": "code",
   "execution_count": 43,
   "id": "a6f5a3d9-b616-446c-a637-8107bc7db44c",
   "metadata": {},
   "outputs": [
    {
     "name": "stdout",
     "output_type": "stream",
     "text": [
      "Cross Validation Score (10 Fold)\n",
      "Accuracy Mean : -0.11322051546437713 \n",
      "Accuracy Std  : 2.17 %\n"
     ]
    }
   ],
   "source": [
    "print_cross_val_score(rf_reg, X_train, y_train, cv=10)"
   ]
  },
  {
   "cell_type": "code",
   "execution_count": 42,
   "id": "89afbd56-6742-4862-a7fc-3b972b644096",
   "metadata": {},
   "outputs": [
    {
     "name": "stdout",
     "output_type": "stream",
     "text": [
      "mean_absolute_error : 0.22916885638699924\n",
      "mean_squared_error : 0.07530690623915469\n",
      "r2_score : -0.09536644194850274\n",
      "adjusted_r2: -0.30285355534511593\n"
     ]
    }
   ],
   "source": [
    "print_eval_metric(y_test, y_pred_rf, n_features=X_test.shape[1])"
   ]
  },
  {
   "cell_type": "markdown",
   "id": "6f1850b2-e1ec-49ea-9611-915a01d225d0",
   "metadata": {
    "jp-MarkdownHeadingCollapsed": true
   },
   "source": [
    "#### Support Vector Regression"
   ]
  },
  {
   "cell_type": "markdown",
   "id": "499839d1-4ed9-470d-9dbf-08c8a97aff94",
   "metadata": {},
   "source": [
    "**With (product_id & category) as OHE**"
   ]
  },
  {
   "cell_type": "code",
   "execution_count": 45,
   "id": "ebf34133-1bcf-4a8f-ad9b-b43ceb666690",
   "metadata": {},
   "outputs": [],
   "source": [
    "from sklearn.svm import SVR\n",
    "svm_reg = SVR(kernel='rbf')\n",
    "\n",
    "svm_reg.fit(X_train,y_train)\n",
    "y_pred_svm = svm_reg.predict(X_test)"
   ]
  },
  {
   "cell_type": "code",
   "execution_count": 47,
   "id": "fb08ea14-fa1e-4a9f-a140-617a5c8d910c",
   "metadata": {},
   "outputs": [
    {
     "name": "stdout",
     "output_type": "stream",
     "text": [
      "Cross Validation Score (10 Fold)\n",
      "Accuracy Mean : -0.1942238000712925 \n",
      "Accuracy Std  : 2.12 %\n"
     ]
    }
   ],
   "source": [
    "print_cross_val_score(svm_reg, X_train, y_train, cv=10)"
   ]
  },
  {
   "cell_type": "code",
   "execution_count": 46,
   "id": "3d5859ab-c930-4ef8-86e3-5b34a67a9602",
   "metadata": {},
   "outputs": [
    {
     "name": "stdout",
     "output_type": "stream",
     "text": [
      "mean_absolute_error : 0.23638790454980615\n",
      "mean_squared_error : 0.08058679807617751\n",
      "r2_score : -0.1721643961364765\n",
      "adjusted_r2: -0.3941987744656201\n"
     ]
    }
   ],
   "source": [
    "print_eval_metric(y_test, y_pred_svm, n_features=X_test.shape[1])"
   ]
  },
  {
   "cell_type": "markdown",
   "id": "51413277-be00-46f8-850b-f1406e9f4e66",
   "metadata": {
    "jp-MarkdownHeadingCollapsed": true
   },
   "source": [
    "#### y_pred = Mean of y_train"
   ]
  },
  {
   "cell_type": "code",
   "execution_count": 49,
   "id": "6ee0e8ce-1013-42d3-843d-d15b7cebfada",
   "metadata": {},
   "outputs": [],
   "source": [
    "y_pred = np.full(y_test.shape[0],np.mean(y_train))"
   ]
  },
  {
   "cell_type": "code",
   "execution_count": 50,
   "id": "f96e045f-2d1f-49eb-ad0c-121ecfec73c7",
   "metadata": {
    "scrolled": true
   },
   "outputs": [
    {
     "name": "stdout",
     "output_type": "stream",
     "text": [
      "mean_absolute_error : 0.22207931024967306\n",
      "mean_squared_error : 0.06876186024256153\n",
      "r2_score : -0.00016635866649949982\n",
      "adjusted_r2: -0.189620428764687\n"
     ]
    }
   ],
   "source": [
    "print_eval_metric(y_test, y_pred, n_features=X_test.shape[1])"
   ]
  },
  {
   "cell_type": "markdown",
   "id": "cfdf59bf-46ff-4adc-b172-48be34ce6ca8",
   "metadata": {
    "jp-MarkdownHeadingCollapsed": true
   },
   "source": [
    "### Visualize Important Features"
   ]
  },
  {
   "cell_type": "code",
   "execution_count": 84,
   "id": "ffe02e29-8dc2-4d5c-a18a-f190e4274a14",
   "metadata": {
    "editable": true,
    "slideshow": {
     "slide_type": ""
    },
    "tags": []
   },
   "outputs": [
    {
     "data": {
      "image/png": "[encoded data removed]",
      "text/plain": [
       "<Figure size 500x600 with 1 Axes>"
      ]
     },
     "metadata": {},
     "output_type": "display_data"
    }
   ],
   "source": [
    "# Plot the relative feature importances from catboost model\n",
    "features = [i for i in X.columns]\n",
    "importances = catboost_reg.feature_importances_\n",
    "indices = np.argsort(importances)\n",
    "\n",
    "plt.figure(figsize=(5,6))\n",
    "plt.title('Relative Feature Importances (By CatBoost')\n",
    "plt.barh(range(len(indices)), importances[indices], color='lightgreen', align='center')\n",
    "plt.yticks(range(len(indices)), [features[i] for i in indices]); plt.show()"
   ]
  },
  {
   "cell_type": "code",
   "execution_count": 85,
   "id": "107a1e54-3cb3-4083-87c1-09cbe2bd2061",
   "metadata": {},
   "outputs": [
    {
     "data": {
      "text/html": [
       "<div>\n",
       "<style scoped>\n",
       "    .dataframe tbody tr th:only-of-type {\n",
       "        vertical-align: middle;\n",
       "    }\n",
       "\n",
       "    .dataframe tbody tr th {\n",
       "        vertical-align: top;\n",
       "    }\n",
       "\n",
       "    .dataframe thead th {\n",
       "        text-align: right;\n",
       "    }\n",
       "</style>\n",
       "<table border=\"1\" class=\"dataframe\">\n",
       "  <thead>\n",
       "    <tr style=\"text-align: right;\">\n",
       "      <th></th>\n",
       "      <th>Feature</th>\n",
       "      <th>Importance</th>\n",
       "    </tr>\n",
       "  </thead>\n",
       "  <tbody>\n",
       "    <tr>\n",
       "      <th>0</th>\n",
       "      <td>product_id</td>\n",
       "      <td>20.348038</td>\n",
       "    </tr>\n",
       "    <tr>\n",
       "      <th>3</th>\n",
       "      <td>category</td>\n",
       "      <td>18.703586</td>\n",
       "    </tr>\n",
       "    <tr>\n",
       "      <th>7</th>\n",
       "      <td>hour</td>\n",
       "      <td>16.589633</td>\n",
       "    </tr>\n",
       "    <tr>\n",
       "      <th>4</th>\n",
       "      <td>unit_price</td>\n",
       "      <td>12.936292</td>\n",
       "    </tr>\n",
       "    <tr>\n",
       "      <th>2</th>\n",
       "      <td>temperature</td>\n",
       "      <td>12.690409</td>\n",
       "    </tr>\n",
       "    <tr>\n",
       "      <th>5</th>\n",
       "      <td>day_of_month</td>\n",
       "      <td>8.258167</td>\n",
       "    </tr>\n",
       "    <tr>\n",
       "      <th>6</th>\n",
       "      <td>day_of_week</td>\n",
       "      <td>7.062340</td>\n",
       "    </tr>\n",
       "    <tr>\n",
       "      <th>1</th>\n",
       "      <td>quantity</td>\n",
       "      <td>3.411536</td>\n",
       "    </tr>\n",
       "  </tbody>\n",
       "</table>\n",
       "</div>"
      ],
      "text/plain": [
       "        Feature  Importance\n",
       "0    product_id   20.348038\n",
       "3      category   18.703586\n",
       "7          hour   16.589633\n",
       "4    unit_price   12.936292\n",
       "2   temperature   12.690409\n",
       "5  day_of_month    8.258167\n",
       "6   day_of_week    7.062340\n",
       "1      quantity    3.411536"
      ]
     },
     "execution_count": 85,
     "metadata": {},
     "output_type": "execute_result"
    }
   ],
   "source": [
    "pd.DataFrame({'Feature': features, 'Importance': importances}).sort_values('Importance',ascending=False)"
   ]
  },
  {
   "cell_type": "code",
   "execution_count": 30,
   "id": "1212e525-a84b-413c-8c7e-244e394f20a7",
   "metadata": {},
   "outputs": [
    {
     "name": "stdout",
     "output_type": "stream",
     "text": [
      "Non-zero feature coefficients:\n",
      "temperature: 0.0027417067263372213\n",
      "unit_price: -0.0016986252573848826\n"
     ]
    }
   ],
   "source": [
    "from sklearn.linear_model import LassoCV\n",
    "\n",
    "# Fit Lasso model\n",
    "lasso = LassoCV().fit(X_train, y_train)\n",
    "\n",
    "# Get feature coefficients\n",
    "coef = lasso.coef_\n",
    "\n",
    "# Print the non-zero feature coefficients\n",
    "print(\"Non-zero feature coefficients:\")\n",
    "for i in range(len(coef)):\n",
    "    if coef[i] != 0:\n",
    "        print(f\"{X_train.columns[i]}: {coef[i]}\")"
   ]
  },
  {
   "cell_type": "code",
   "execution_count": 31,
   "id": "08702528-f5d6-4743-b55f-db5e01325bb2",
   "metadata": {},
   "outputs": [
    {
     "data": {
      "image/png": "[encoded data removed]",
      "text/plain": [
       "<Figure size 800x800 with 1 Axes>"
      ]
     },
     "metadata": {},
     "output_type": "display_data"
    }
   ],
   "source": [
    "# Plot feature rankings based on correlation with target variable\n",
    "feature_correlation = X.corrwith(y).abs().sort_values(ascending=True)\n",
    "plt.figure(figsize=(8, 8))\n",
    "feature_correlation.plot(kind='barh')\n",
    "plt.title(\"Feature Correlation with Estimated Stock Percentage\")\n",
    "plt.ylabel(\"Correlation\")\n",
    "plt.xlabel(\"Features\"); plt.show()"
   ]
  }
 ],
 "metadata": {
  "kernelspec": {
   "display_name": "Python 3 (ipykernel)",
   "language": "python",
   "name": "python3"
  },
  "language_info": {
   "codemirror_mode": {
    "name": "ipython",
    "version": 3
   },
   "file_extension": ".py",
   "mimetype": "text/x-python",
   "name": "python",
   "nbconvert_exporter": "python",
   "pygments_lexer": "ipython3",
   "version": "3.11.5"
  }
 },
 "nbformat": 4,
 "nbformat_minor": 5
}
